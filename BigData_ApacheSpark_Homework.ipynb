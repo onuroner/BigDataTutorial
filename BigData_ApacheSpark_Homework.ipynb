{
  "nbformat": 4,
  "nbformat_minor": 0,
  "metadata": {
    "colab": {
      "provenance": [],
      "include_colab_link": true
    },
    "kernelspec": {
      "name": "python3",
      "display_name": "Python 3"
    },
    "language_info": {
      "name": "python"
    }
  },
  "cells": [
    {
      "cell_type": "markdown",
      "metadata": {
        "id": "view-in-github",
        "colab_type": "text"
      },
      "source": [
        "<a href=\"https://colab.research.google.com/github/onuroner/BigDataTutorial/blob/main/BigData_ApacheSpark_Homework.ipynb\" target=\"_parent\"><img src=\"https://colab.research.google.com/assets/colab-badge.svg\" alt=\"Open In Colab\"/></a>"
      ]
    },
    {
      "cell_type": "code",
      "execution_count": null,
      "metadata": {
        "id": "iN8HM30fsHjZ",
        "colab": {
          "base_uri": "https://localhost:8080/"
        },
        "outputId": "b0b525b4-5879-4365-fe80-5e28a05d980a"
      },
      "outputs": [
        {
          "output_type": "stream",
          "name": "stdout",
          "text": [
            "spark-3.2.1-bin-had 100%[===================>] 287.03M  2.96MB/s    in 45s     \n",
            "\u001b[2K     \u001b[90m━━━━━━━━━━━━━━━━━━━━━━━━━━━━━━━━━━━━━━━━\u001b[0m \u001b[32m281.4/281.4 MB\u001b[0m \u001b[31m2.9 MB/s\u001b[0m eta \u001b[36m0:00:00\u001b[0m\n",
            "\u001b[?25h  Preparing metadata (setup.py) ... \u001b[?25l\u001b[?25hdone\n",
            "\u001b[2K     \u001b[90m━━━━━━━━━━━━━━━━━━━━━━━━━━━━━━━━━━━━━━━━\u001b[0m \u001b[32m199.0/199.0 kB\u001b[0m \u001b[31m19.3 MB/s\u001b[0m eta \u001b[36m0:00:00\u001b[0m\n",
            "\u001b[?25h  Building wheel for pyspark (setup.py) ... \u001b[?25l\u001b[?25hdone\n",
            "  Preparing metadata (setup.py) ... \u001b[?25l\u001b[?25hdone\n",
            "  Building wheel for delta (setup.py) ... \u001b[?25l\u001b[?25hdone\n"
          ]
        }
      ],
      "source": [
        "!apt-get -qq update > /tmp/apt.out\n",
        "!apt-get install -y -qq openjdk-11-jdk-headless\n",
        "!(wget -q --show-progress -nc https://archive.apache.org/dist/spark/spark-3.2.1/spark-3.2.1-bin-hadoop3.2.tgz)\n",
        "!tar xf spark-3.2.1-bin-hadoop3.2.tgz\n",
        "try:\n",
        "  import pyspark, findspark, delta\n",
        "except:\n",
        "  %pip install -q --upgrade pyspark==3.2.1\n",
        "  %pip install -q findspark\n",
        "  %pip install -q delta"
      ]
    },
    {
      "cell_type": "code",
      "source": [
        "!pip install gcsfs"
      ],
      "metadata": {
        "colab": {
          "base_uri": "https://localhost:8080/"
        },
        "id": "mrzkPZv3yM2P",
        "outputId": "807a2336-73d9-42ad-b2c1-c72666c61de2"
      },
      "execution_count": null,
      "outputs": [
        {
          "output_type": "stream",
          "name": "stdout",
          "text": [
            "Requirement already satisfied: gcsfs in /usr/local/lib/python3.10/dist-packages (2023.6.0)\n",
            "Requirement already satisfied: aiohttp!=4.0.0a0,!=4.0.0a1 in /usr/local/lib/python3.10/dist-packages (from gcsfs) (3.9.3)\n",
            "Requirement already satisfied: decorator>4.1.2 in /usr/local/lib/python3.10/dist-packages (from gcsfs) (4.4.2)\n",
            "Requirement already satisfied: fsspec==2023.6.0 in /usr/local/lib/python3.10/dist-packages (from gcsfs) (2023.6.0)\n",
            "Requirement already satisfied: google-auth>=1.2 in /usr/local/lib/python3.10/dist-packages (from gcsfs) (2.27.0)\n",
            "Requirement already satisfied: google-auth-oauthlib in /usr/local/lib/python3.10/dist-packages (from gcsfs) (1.2.0)\n",
            "Requirement already satisfied: google-cloud-storage in /usr/local/lib/python3.10/dist-packages (from gcsfs) (2.8.0)\n",
            "Requirement already satisfied: requests in /usr/local/lib/python3.10/dist-packages (from gcsfs) (2.31.0)\n",
            "Requirement already satisfied: aiosignal>=1.1.2 in /usr/local/lib/python3.10/dist-packages (from aiohttp!=4.0.0a0,!=4.0.0a1->gcsfs) (1.3.1)\n",
            "Requirement already satisfied: attrs>=17.3.0 in /usr/local/lib/python3.10/dist-packages (from aiohttp!=4.0.0a0,!=4.0.0a1->gcsfs) (23.2.0)\n",
            "Requirement already satisfied: frozenlist>=1.1.1 in /usr/local/lib/python3.10/dist-packages (from aiohttp!=4.0.0a0,!=4.0.0a1->gcsfs) (1.4.1)\n",
            "Requirement already satisfied: multidict<7.0,>=4.5 in /usr/local/lib/python3.10/dist-packages (from aiohttp!=4.0.0a0,!=4.0.0a1->gcsfs) (6.0.5)\n",
            "Requirement already satisfied: yarl<2.0,>=1.0 in /usr/local/lib/python3.10/dist-packages (from aiohttp!=4.0.0a0,!=4.0.0a1->gcsfs) (1.9.4)\n",
            "Requirement already satisfied: async-timeout<5.0,>=4.0 in /usr/local/lib/python3.10/dist-packages (from aiohttp!=4.0.0a0,!=4.0.0a1->gcsfs) (4.0.3)\n",
            "Requirement already satisfied: cachetools<6.0,>=2.0.0 in /usr/local/lib/python3.10/dist-packages (from google-auth>=1.2->gcsfs) (5.3.3)\n",
            "Requirement already satisfied: pyasn1-modules>=0.2.1 in /usr/local/lib/python3.10/dist-packages (from google-auth>=1.2->gcsfs) (0.3.0)\n",
            "Requirement already satisfied: rsa<5,>=3.1.4 in /usr/local/lib/python3.10/dist-packages (from google-auth>=1.2->gcsfs) (4.9)\n",
            "Requirement already satisfied: requests-oauthlib>=0.7.0 in /usr/local/lib/python3.10/dist-packages (from google-auth-oauthlib->gcsfs) (1.4.0)\n",
            "Requirement already satisfied: google-api-core!=2.0.*,!=2.1.*,!=2.2.*,!=2.3.0,<3.0.0dev,>=1.31.5 in /usr/local/lib/python3.10/dist-packages (from google-cloud-storage->gcsfs) (2.11.1)\n",
            "Requirement already satisfied: google-cloud-core<3.0dev,>=2.3.0 in /usr/local/lib/python3.10/dist-packages (from google-cloud-storage->gcsfs) (2.3.3)\n",
            "Requirement already satisfied: google-resumable-media>=2.3.2 in /usr/local/lib/python3.10/dist-packages (from google-cloud-storage->gcsfs) (2.7.0)\n",
            "Requirement already satisfied: charset-normalizer<4,>=2 in /usr/local/lib/python3.10/dist-packages (from requests->gcsfs) (3.3.2)\n",
            "Requirement already satisfied: idna<4,>=2.5 in /usr/local/lib/python3.10/dist-packages (from requests->gcsfs) (3.6)\n",
            "Requirement already satisfied: urllib3<3,>=1.21.1 in /usr/local/lib/python3.10/dist-packages (from requests->gcsfs) (2.0.7)\n",
            "Requirement already satisfied: certifi>=2017.4.17 in /usr/local/lib/python3.10/dist-packages (from requests->gcsfs) (2024.2.2)\n",
            "Requirement already satisfied: googleapis-common-protos<2.0.dev0,>=1.56.2 in /usr/local/lib/python3.10/dist-packages (from google-api-core!=2.0.*,!=2.1.*,!=2.2.*,!=2.3.0,<3.0.0dev,>=1.31.5->google-cloud-storage->gcsfs) (1.63.0)\n",
            "Requirement already satisfied: protobuf!=3.20.0,!=3.20.1,!=4.21.0,!=4.21.1,!=4.21.2,!=4.21.3,!=4.21.4,!=4.21.5,<5.0.0.dev0,>=3.19.5 in /usr/local/lib/python3.10/dist-packages (from google-api-core!=2.0.*,!=2.1.*,!=2.2.*,!=2.3.0,<3.0.0dev,>=1.31.5->google-cloud-storage->gcsfs) (3.20.3)\n",
            "Requirement already satisfied: google-crc32c<2.0dev,>=1.0 in /usr/local/lib/python3.10/dist-packages (from google-resumable-media>=2.3.2->google-cloud-storage->gcsfs) (1.5.0)\n",
            "Requirement already satisfied: pyasn1<0.6.0,>=0.4.6 in /usr/local/lib/python3.10/dist-packages (from pyasn1-modules>=0.2.1->google-auth>=1.2->gcsfs) (0.5.1)\n",
            "Requirement already satisfied: oauthlib>=3.0.0 in /usr/local/lib/python3.10/dist-packages (from requests-oauthlib>=0.7.0->google-auth-oauthlib->gcsfs) (3.2.2)\n"
          ]
        }
      ]
    },
    {
      "cell_type": "code",
      "source": [
        "#!(wget -O /content/spark-3.2.1-bin-hadoop3.2/jars/gcs-connector-hadoop2-latest.jar  -q https://storage.googleapis.com/hadoop-lib/gcs/gcs-connector-hadoop3.2-latest.jar)"
      ],
      "metadata": {
        "id": "_NQybIdovnH7"
      },
      "execution_count": null,
      "outputs": []
    },
    {
      "cell_type": "code",
      "source": [
        "import findspark\n",
        "import pyspark\n",
        "import os\n",
        "from pyspark.sql.functions import *\n",
        "\n",
        "os.environ[\"JAVA_HOME\"] = \"/usr/lib/jvm/java-11-openjdk-amd64\"\n",
        "os.environ[\"SPARK_HOME\"] = \"/content/spark-3.2.1-bin-hadoop3.2\"\n",
        "\n",
        "findspark.init()\n",
        "MAX_MEMORY=\"8g\"\n",
        "\n",
        "spark = (pyspark.sql.SparkSession.builder.appName(\"MyApp\")\n",
        "    .config(\"spark.executor.memory\", MAX_MEMORY)\n",
        "    .config(\"spark.driver.memory\", MAX_MEMORY)\n",
        "    .getOrCreate()\n",
        "    )\n",
        "\n",
        "spark"
      ],
      "metadata": {
        "colab": {
          "base_uri": "https://localhost:8080/",
          "height": 219
        },
        "id": "RofOJZjTsPPK",
        "outputId": "885023d0-f0e6-470a-eb3b-831a5a6268ce"
      },
      "execution_count": null,
      "outputs": [
        {
          "output_type": "execute_result",
          "data": {
            "text/plain": [
              "<pyspark.sql.session.SparkSession at 0x7c1673feeec0>"
            ],
            "text/html": [
              "\n",
              "            <div>\n",
              "                <p><b>SparkSession - in-memory</b></p>\n",
              "                \n",
              "        <div>\n",
              "            <p><b>SparkContext</b></p>\n",
              "\n",
              "            <p><a href=\"http://cf78cb7dae88:4040\">Spark UI</a></p>\n",
              "\n",
              "            <dl>\n",
              "              <dt>Version</dt>\n",
              "                <dd><code>v3.2.1</code></dd>\n",
              "              <dt>Master</dt>\n",
              "                <dd><code>local[*]</code></dd>\n",
              "              <dt>AppName</dt>\n",
              "                <dd><code>MyApp</code></dd>\n",
              "            </dl>\n",
              "        </div>\n",
              "        \n",
              "            </div>\n",
              "        "
            ]
          },
          "metadata": {},
          "execution_count": 4
        }
      ]
    },
    {
      "cell_type": "code",
      "source": [
        "#spark.stop()"
      ],
      "metadata": {
        "id": "lNk7dRFywBFb"
      },
      "execution_count": null,
      "outputs": []
    },
    {
      "cell_type": "code",
      "source": [
        "!wget https://storage.googleapis.com/bigdata_training/Titanic.parquet"
      ],
      "metadata": {
        "colab": {
          "base_uri": "https://localhost:8080/"
        },
        "id": "z80kjlGo46Se",
        "outputId": "0ea1d976-60bf-4f96-e58b-df7ed16db56f"
      },
      "execution_count": null,
      "outputs": [
        {
          "output_type": "stream",
          "name": "stdout",
          "text": [
            "--2024-03-14 08:46:05--  https://storage.googleapis.com/bigdata_training/Titanic.parquet\n",
            "Resolving storage.googleapis.com (storage.googleapis.com)... 142.251.2.207, 2607:f8b0:4023:c0d::cf, 2607:f8b0:4023:c03::cf, ...\n",
            "Connecting to storage.googleapis.com (storage.googleapis.com)|142.251.2.207|:443... connected.\n",
            "HTTP request sent, awaiting response... 200 OK\n",
            "Length: 40013 (39K) [application/octet-stream]\n",
            "Saving to: ‘Titanic.parquet’\n",
            "\n",
            "Titanic.parquet     100%[===================>]  39.08K  --.-KB/s    in 0.03s   \n",
            "\n",
            "2024-03-14 08:46:06 (1.27 MB/s) - ‘Titanic.parquet’ saved [40013/40013]\n",
            "\n"
          ]
        }
      ]
    },
    {
      "cell_type": "code",
      "source": [
        "df_passengers = spark.read.parquet(\"Titanic.parquet\")\n",
        "df_passengers.show()"
      ],
      "metadata": {
        "id": "R5O8pGvXsQJi",
        "colab": {
          "base_uri": "https://localhost:8080/"
        },
        "outputId": "9cc05b3d-c027-4c07-8ee3-2b09b129238b"
      },
      "execution_count": null,
      "outputs": [
        {
          "output_type": "stream",
          "name": "stdout",
          "text": [
            "+-----------+--------+------+--------------------+------+----+-----+-----+----------------+-------+-----+--------+\n",
            "|PassengerId|Survived|Pclass|                Name|   Sex| Age|SibSp|Parch|          Ticket|   Fare|Cabin|Embarked|\n",
            "+-----------+--------+------+--------------------+------+----+-----+-----+----------------+-------+-----+--------+\n",
            "|          1|       0|     3|Braund, Mr. Owen ...|  male|22.0|    1|    0|       A/5 21171|   7.25| null|       S|\n",
            "|          2|       1|     1|Cumings, Mrs. Joh...|female|38.0|    1|    0|        PC 17599|71.2833|  C85|       C|\n",
            "|          3|       1|     3|Heikkinen, Miss. ...|female|26.0|    0|    0|STON/O2. 3101282|  7.925| null|       S|\n",
            "|          4|       1|     1|Futrelle, Mrs. Ja...|female|35.0|    1|    0|          113803|   53.1| C123|       S|\n",
            "|          5|       0|     3|Allen, Mr. Willia...|  male|35.0|    0|    0|          373450|   8.05| null|       S|\n",
            "|          6|       0|     3|    Moran, Mr. James|  male|null|    0|    0|          330877| 8.4583| null|       Q|\n",
            "|          7|       0|     1|McCarthy, Mr. Tim...|  male|54.0|    0|    0|           17463|51.8625|  E46|       S|\n",
            "|          8|       0|     3|Palsson, Master. ...|  male| 2.0|    3|    1|          349909| 21.075| null|       S|\n",
            "|          9|       1|     3|Johnson, Mrs. Osc...|female|27.0|    0|    2|          347742|11.1333| null|       S|\n",
            "|         10|       1|     2|Nasser, Mrs. Nich...|female|14.0|    1|    0|          237736|30.0708| null|       C|\n",
            "|         11|       1|     3|Sandstrom, Miss. ...|female| 4.0|    1|    1|         PP 9549|   16.7|   G6|       S|\n",
            "|         12|       1|     1|Bonnell, Miss. El...|female|58.0|    0|    0|          113783|  26.55| C103|       S|\n",
            "|         13|       0|     3|Saundercock, Mr. ...|  male|20.0|    0|    0|       A/5. 2151|   8.05| null|       S|\n",
            "|         14|       0|     3|Andersson, Mr. An...|  male|39.0|    1|    5|          347082| 31.275| null|       S|\n",
            "|         15|       0|     3|Vestrom, Miss. Hu...|female|14.0|    0|    0|          350406| 7.8542| null|       S|\n",
            "|         16|       1|     2|Hewlett, Mrs. (Ma...|female|55.0|    0|    0|          248706|   16.0| null|       S|\n",
            "|         17|       0|     3|Rice, Master. Eugene|  male| 2.0|    4|    1|          382652| 29.125| null|       Q|\n",
            "|         18|       1|     2|Williams, Mr. Cha...|  male|null|    0|    0|          244373|   13.0| null|       S|\n",
            "|         19|       0|     3|Vander Planke, Mr...|female|31.0|    1|    0|          345763|   18.0| null|       S|\n",
            "|         20|       1|     3|Masselmani, Mrs. ...|female|null|    0|    0|            2649|  7.225| null|       C|\n",
            "+-----------+--------+------+--------------------+------+----+-----+-----+----------------+-------+-----+--------+\n",
            "only showing top 20 rows\n",
            "\n"
          ]
        }
      ]
    },
    {
      "cell_type": "code",
      "source": [
        "#Gemiden kurtulma durumuna göre ödenen en yüksek ve en düşük bilet fiyatını bulunuz.\n",
        "df_passengers.groupby(col(\"Survived\")).agg(max(col(\"Fare\")).alias(\"max_fare\"), min(col(\"Fare\")).alias(\"min_fare\")).show()"
      ],
      "metadata": {
        "id": "LirhBcWy5lVI",
        "colab": {
          "base_uri": "https://localhost:8080/"
        },
        "outputId": "5cf7a6ec-ee5f-4d00-9a7f-665c5f200f1b"
      },
      "execution_count": null,
      "outputs": [
        {
          "output_type": "stream",
          "name": "stdout",
          "text": [
            "+--------+--------+--------+\n",
            "|Survived|max_fare|min_fare|\n",
            "+--------+--------+--------+\n",
            "|       0|   263.0|     0.0|\n",
            "|       1|512.3292|     0.0|\n",
            "+--------+--------+--------+\n",
            "\n"
          ]
        }
      ]
    },
    {
      "cell_type": "code",
      "source": [
        "#Yolcuların(18 yaş ve altı çocuklar hariç) cinsiyete göre ortalama yaşlarını bulunuz.\n",
        "df_passengers.where(col(\"Age\") < 18.0).groupby(col(\"Sex\")).agg(avg(col(\"Age\")).alias(\"avg_age\")).show()"
      ],
      "metadata": {
        "id": "E45wiWDy6K6f",
        "colab": {
          "base_uri": "https://localhost:8080/"
        },
        "outputId": "b981bf35-a549-408b-cbdb-5b4a77814fde"
      },
      "execution_count": null,
      "outputs": [
        {
          "output_type": "stream",
          "name": "stdout",
          "text": [
            "+------+-----------------+\n",
            "|   Sex|          avg_age|\n",
            "+------+-----------------+\n",
            "|female|9.236363636363636|\n",
            "|  male| 8.85637931034483|\n",
            "+------+-----------------+\n",
            "\n"
          ]
        }
      ]
    },
    {
      "cell_type": "code",
      "source": [
        "#Aynı kabinde yolculuk yapan erkek ve kadınların eşleşmesi yapılması için aşağıdaki sorgu yazılmışmış fakat sorguda ufak bir eksiklik var, eksik olan parçayı tamamlayınız.\n",
        "df_passengers.alias(\"m\") \\\n",
        ".join(df_passengers.alias(\"f\"),\n",
        "      on=((col(\"m.Cabin\")==col(\"f.Cabin\"))),\n",
        "      how=\"inner\") \\\n",
        ".where((col(\"m.Sex\")==\"male\") &  (col(\"f.Sex\") == \"female\")) \\\n",
        ".select(col(\"m.Cabin\"),col(\"m.Name\").alias(\"Erkek Yolcu\"),col(\"f.Name\").alias(\"Kadın Yolcu\")).show(100,200)"
      ],
      "metadata": {
        "id": "ZA6C1-MD7B25",
        "colab": {
          "base_uri": "https://localhost:8080/"
        },
        "outputId": "425aab81-a620-4520-870c-34d4088465a6"
      },
      "execution_count": null,
      "outputs": [
        {
          "output_type": "stream",
          "name": "stdout",
          "text": [
            "+-----------+------------------------------------------+----------------------------------------------------------------------------------+\n",
            "|      Cabin|                               Erkek Yolcu|                                                                       Kadın Yolcu|\n",
            "+-----------+------------------------------------------+----------------------------------------------------------------------------------+\n",
            "|C23 C25 C27|            Fortune, Mr. Charles Alexander|                                                    Fortune, Miss. Alice Elizabeth|\n",
            "|C23 C25 C27|            Fortune, Mr. Charles Alexander|                                                        Fortune, Miss. Mabel Helen|\n",
            "|        C83|               Harris, Mr. Henry Birkhardt|                                      Harris, Mrs. Henry Birkhardt (Irene Wallach)|\n",
            "|    B58 B60|                  Baxter, Mr. Quigg Edmond|                                   Baxter, Mrs. James (Helene DeLaudeniere Chaput)|\n",
            "|       C123|               Futrelle, Mr. Jacques Heath|                                      Futrelle, Mrs. Jacques Heath (Lily May Peel)|\n",
            "|         F4|                 Becker, Master. Richard F|                                                       Becker, Miss. Marion Louise|\n",
            "|        C93|              Hoyt, Mr. Frederick Maxfield|                                   Hoyt, Mrs. Frederick Maxfield (Jane Anne Forby)|\n",
            "|        C78|               Minahan, Dr. William Edward|                                                            Minahan, Miss. Daisy E|\n",
            "|        D35|             Beckwith, Mr. Richard Leonard|                                  Beckwith, Mrs. Richard Leonard (Sallie Monypeny)|\n",
            "|        E67|                         Taussig, Mr. Emil|                                            Taussig, Mrs. Emil (Tillie Mandelbaum)|\n",
            "|          D|                    Levy, Mr. Rene Jacques|                                      Jerwan, Mrs. Amin S (Marie Marthe Thuillard)|\n",
            "|          D|                    Levy, Mr. Rene Jacques|                                                           Ball, Mrs. (Ada E Hall)|\n",
            "|    C22 C26|            Allison, Master. Hudson Trevor|                                   Allison, Mrs. Hudson J C (Bessie Waldo Daniels)|\n",
            "|    C22 C26|            Allison, Master. Hudson Trevor|                                                      Allison, Miss. Helen Loraine|\n",
            "|         C2|                 Pears, Mr. Thomas Clinton|                                                 Pears, Mrs. Thomas (Edith Wearne)|\n",
            "|    B96 B98|                Carter, Mr. William Ernest|                                         Carter, Mrs. William Ernest (Lucile Polk)|\n",
            "|    B96 B98|                Carter, Mr. William Ernest|                                                         Carter, Miss. Lucile Polk|\n",
            "|        E44|                 Silvey, Mr. William Baird|                                         Silvey, Mrs. William Baird (Alice Munger)|\n",
            "|C23 C25 C27|                         Fortune, Mr. Mark|                                                    Fortune, Miss. Alice Elizabeth|\n",
            "|C23 C25 C27|                         Fortune, Mr. Mark|                                                        Fortune, Miss. Mabel Helen|\n",
            "|        C92|                  Goldenberg, Mr. Samuel L|                                      Goldenberg, Mrs. Samuel L (Edwiga Grabowska)|\n",
            "|        B49|                   Bishop, Mr. Dickinson H|                                           Bishop, Mrs. Dickinson H (Helen Walton)|\n",
            "|        C65|Penasco y Castellana, Mr. Victor de Satode|Penasco y Castellana, Mrs. Victor de Satode (Maria Josefa Perez de Soto y Vallejo)|\n",
            "|        D33|                 Harper, Mr. Henry Sleeper|                                          Harper, Mrs. Henry Sleeper (Myna Haxtun)|\n",
            "|        B20|                   Dick, Mr. Albert Adrian|                                         Dick, Mrs. Albert Adrian (Vera Gillespie)|\n",
            "|        C68|                  Thayer, Mr. John Borland|                              Thayer, Mrs. John Borland (Marian Longstreth Morris)|\n",
            "|       C126|                  Taylor, Mr. Elmer Zebley|                                 Taylor, Mrs. Elmer Zebley (Juliet Cummins Wright)|\n",
            "|         E8|             Chambers, Mr. Norman Campbell|                                    Chambers, Mrs. Norman Campbell (Bertha Griggs)|\n",
            "|        B22|              Crosby, Capt. Edward Gifford|                                                           Crosby, Miss. Harriet R|\n",
            "|       E121|                       Moor, Master. Meier|                                                                Moor, Mrs. (Beila)|\n",
            "|    B96 B98|       Carter, Master. William Thornton II|                                         Carter, Mrs. William Ernest (Lucile Polk)|\n",
            "|    B96 B98|       Carter, Master. William Thornton II|                                                         Carter, Miss. Lucile Polk|\n",
            "+-----------+------------------------------------------+----------------------------------------------------------------------------------+\n",
            "\n"
          ]
        }
      ]
    },
    {
      "cell_type": "code",
      "source": [
        "#veriye yolcunun yaşına göre belirlenecek yeni bir kolon eklenmek isteniyor(AgeCategory). Kolon içeriğinde;\n",
        "#0-10 yaş arası yolcular -> Çocuk\n",
        "#11-18 yaş arası yolcular -> Genç\n",
        "#19 ve üstü yolcular -> Yetişkin\n",
        "#bilgisi yazılması isteniyor. Bu yeni kolonu ekleyiniz.\n",
        "\n",
        "df_passengers \\\n",
        ".withColumn(\"AgeCategory\",when(col(\"Age\")<=10,lit(\"Çocuk\")).when((col(\"Age\")>10) & (col(\"Age\")<=18), lit(\"Genç\")).when((col(\"Age\")>18) , lit(\"Yetişkin\"))) \\\n",
        ".show()"
      ],
      "metadata": {
        "id": "djyxza0s9II3",
        "colab": {
          "base_uri": "https://localhost:8080/"
        },
        "outputId": "465c60df-6039-4b40-900f-e1974f587346"
      },
      "execution_count": null,
      "outputs": [
        {
          "output_type": "stream",
          "name": "stdout",
          "text": [
            "+-----------+--------+------+--------------------+------+----+-----+-----+----------------+-------+-----+--------+-----------+\n",
            "|PassengerId|Survived|Pclass|                Name|   Sex| Age|SibSp|Parch|          Ticket|   Fare|Cabin|Embarked|AgeCategory|\n",
            "+-----------+--------+------+--------------------+------+----+-----+-----+----------------+-------+-----+--------+-----------+\n",
            "|          1|       0|     3|Braund, Mr. Owen ...|  male|22.0|    1|    0|       A/5 21171|   7.25| null|       S|   Yetişkin|\n",
            "|          2|       1|     1|Cumings, Mrs. Joh...|female|38.0|    1|    0|        PC 17599|71.2833|  C85|       C|   Yetişkin|\n",
            "|          3|       1|     3|Heikkinen, Miss. ...|female|26.0|    0|    0|STON/O2. 3101282|  7.925| null|       S|   Yetişkin|\n",
            "|          4|       1|     1|Futrelle, Mrs. Ja...|female|35.0|    1|    0|          113803|   53.1| C123|       S|   Yetişkin|\n",
            "|          5|       0|     3|Allen, Mr. Willia...|  male|35.0|    0|    0|          373450|   8.05| null|       S|   Yetişkin|\n",
            "|          6|       0|     3|    Moran, Mr. James|  male|null|    0|    0|          330877| 8.4583| null|       Q|       null|\n",
            "|          7|       0|     1|McCarthy, Mr. Tim...|  male|54.0|    0|    0|           17463|51.8625|  E46|       S|   Yetişkin|\n",
            "|          8|       0|     3|Palsson, Master. ...|  male| 2.0|    3|    1|          349909| 21.075| null|       S|      Çocuk|\n",
            "|          9|       1|     3|Johnson, Mrs. Osc...|female|27.0|    0|    2|          347742|11.1333| null|       S|   Yetişkin|\n",
            "|         10|       1|     2|Nasser, Mrs. Nich...|female|14.0|    1|    0|          237736|30.0708| null|       C|       Genç|\n",
            "|         11|       1|     3|Sandstrom, Miss. ...|female| 4.0|    1|    1|         PP 9549|   16.7|   G6|       S|      Çocuk|\n",
            "|         12|       1|     1|Bonnell, Miss. El...|female|58.0|    0|    0|          113783|  26.55| C103|       S|   Yetişkin|\n",
            "|         13|       0|     3|Saundercock, Mr. ...|  male|20.0|    0|    0|       A/5. 2151|   8.05| null|       S|   Yetişkin|\n",
            "|         14|       0|     3|Andersson, Mr. An...|  male|39.0|    1|    5|          347082| 31.275| null|       S|   Yetişkin|\n",
            "|         15|       0|     3|Vestrom, Miss. Hu...|female|14.0|    0|    0|          350406| 7.8542| null|       S|       Genç|\n",
            "|         16|       1|     2|Hewlett, Mrs. (Ma...|female|55.0|    0|    0|          248706|   16.0| null|       S|   Yetişkin|\n",
            "|         17|       0|     3|Rice, Master. Eugene|  male| 2.0|    4|    1|          382652| 29.125| null|       Q|      Çocuk|\n",
            "|         18|       1|     2|Williams, Mr. Cha...|  male|null|    0|    0|          244373|   13.0| null|       S|       null|\n",
            "|         19|       0|     3|Vander Planke, Mr...|female|31.0|    1|    0|          345763|   18.0| null|       S|   Yetişkin|\n",
            "|         20|       1|     3|Masselmani, Mrs. ...|female|null|    0|    0|            2649|  7.225| null|       C|       null|\n",
            "+-----------+--------+------+--------------------+------+----+-----+-----+----------------+-------+-----+--------+-----------+\n",
            "only showing top 20 rows\n",
            "\n"
          ]
        }
      ]
    },
    {
      "cell_type": "code",
      "source": [
        "#spark'ta bir dataframe sorgu içnide de kullanılabilir. AgeCategory(bir üst sorunın çıktısı olan kolon) kolonuna göre yolcu sayısını veren SQL sorgunu düzenleyiniz.\n",
        "new_df_passengers = df_passengers \\\n",
        ".withColumn(\"AgeCategory\",when(col(\"Age\")<=10,lit(\"Çocuk\")).when((col(\"Age\")>10) & (col(\"Age\")<=18), lit(\"Genç\")).when((col(\"Age\")>18) , lit(\"Yetişkin\")))\n",
        "\n",
        "new_df_passengers.createOrReplaceTempView(\"passengers\")\n",
        "spark.sql(\"select AgeCategory,count(*) as Count from passengers group by AgeCategory\").show()"
      ],
      "metadata": {
        "colab": {
          "base_uri": "https://localhost:8080/"
        },
        "id": "GmVuw1y2-bx_",
        "outputId": "d4192ee9-323a-45f4-f9ff-826255f198a3"
      },
      "execution_count": null,
      "outputs": [
        {
          "output_type": "stream",
          "name": "stdout",
          "text": [
            "+-----------+-----+\n",
            "|AgeCategory|Count|\n",
            "+-----------+-----+\n",
            "|       null|  177|\n",
            "|       Genç|   75|\n",
            "|      Çocuk|   64|\n",
            "|   Yetişkin|  575|\n",
            "+-----------+-----+\n",
            "\n"
          ]
        }
      ]
    }
  ]
}